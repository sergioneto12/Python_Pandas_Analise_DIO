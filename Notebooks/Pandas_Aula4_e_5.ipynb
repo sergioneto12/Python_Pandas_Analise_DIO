{
 "cells": [
  {
   "cell_type": "markdown",
   "metadata": {
    "colab_type": "text",
    "id": "ZeNH2z6OzfND"
   },
   "source": [
    "#**Trabalhando com Planilhas do Excel**"
   ]
  },
  {
   "cell_type": "code",
   "execution_count": 0,
   "metadata": {
    "colab": {},
    "colab_type": "code",
    "id": "Jwz3_uGfzmYp"
   },
   "outputs": [],
   "source": [
    "#Importando a biblioteca\n",
    "import pandas as pd"
   ]
  },
  {
   "cell_type": "code",
   "execution_count": 0,
   "metadata": {
    "colab": {},
    "colab_type": "code",
    "id": "pCTDd0YKzqkc"
   },
   "outputs": [],
   "source": [
    "#Leitura dos arquivos\n",
    "df1 = pd.read_excel(\"Aracaju.xlsx\")\n",
    "df2 = pd.read_excel(\"Fortaleza.xlsx\")\n",
    "df3 = pd.read_excel(\"Natal.xlsx\")\n",
    "df4 = pd.read_excel(\"Recife.xlsx\")\n",
    "df5 = pd.read_excel(\"Salvador.xlsx\")"
   ]
  },
  {
   "cell_type": "code",
   "execution_count": 113,
   "metadata": {
    "colab": {
     "base_uri": "https://localhost:8080/",
     "height": 204
    },
    "colab_type": "code",
    "id": "bt3rZ7tWBPj7",
    "outputId": "ffe2a67a-51ad-4749-d941-81cdd22dd29b"
   },
   "outputs": [
    {
     "data": {
      "text/html": [
       "<div>\n",
       "<style scoped>\n",
       "    .dataframe tbody tr th:only-of-type {\n",
       "        vertical-align: middle;\n",
       "    }\n",
       "\n",
       "    .dataframe tbody tr th {\n",
       "        vertical-align: top;\n",
       "    }\n",
       "\n",
       "    .dataframe thead th {\n",
       "        text-align: right;\n",
       "    }\n",
       "</style>\n",
       "<table border=\"1\" class=\"dataframe\">\n",
       "  <thead>\n",
       "    <tr style=\"text-align: right;\">\n",
       "      <th></th>\n",
       "      <th>Cidade</th>\n",
       "      <th>Data</th>\n",
       "      <th>Vendas</th>\n",
       "      <th>LojaID</th>\n",
       "      <th>Qtde</th>\n",
       "    </tr>\n",
       "  </thead>\n",
       "  <tbody>\n",
       "    <tr>\n",
       "      <th>0</th>\n",
       "      <td>Salvador</td>\n",
       "      <td>2018-01-01</td>\n",
       "      <td>31.06</td>\n",
       "      <td>1037</td>\n",
       "      <td>3</td>\n",
       "    </tr>\n",
       "    <tr>\n",
       "      <th>1</th>\n",
       "      <td>Salvador</td>\n",
       "      <td>2018-01-01</td>\n",
       "      <td>19.02</td>\n",
       "      <td>1034</td>\n",
       "      <td>3</td>\n",
       "    </tr>\n",
       "    <tr>\n",
       "      <th>2</th>\n",
       "      <td>Salvador</td>\n",
       "      <td>2019-02-10</td>\n",
       "      <td>173.59</td>\n",
       "      <td>1035</td>\n",
       "      <td>3</td>\n",
       "    </tr>\n",
       "    <tr>\n",
       "      <th>3</th>\n",
       "      <td>Salvador</td>\n",
       "      <td>2019-02-10</td>\n",
       "      <td>176.34</td>\n",
       "      <td>1037</td>\n",
       "      <td>3</td>\n",
       "    </tr>\n",
       "    <tr>\n",
       "      <th>4</th>\n",
       "      <td>Salvador</td>\n",
       "      <td>2019-02-14</td>\n",
       "      <td>19.47</td>\n",
       "      <td>1037</td>\n",
       "      <td>3</td>\n",
       "    </tr>\n",
       "  </tbody>\n",
       "</table>\n",
       "</div>"
      ],
      "text/plain": [
       "     Cidade       Data  Vendas  LojaID  Qtde\n",
       "0  Salvador 2018-01-01   31.06    1037     3\n",
       "1  Salvador 2018-01-01   19.02    1034     3\n",
       "2  Salvador 2019-02-10  173.59    1035     3\n",
       "3  Salvador 2019-02-10  176.34    1037     3\n",
       "4  Salvador 2019-02-14   19.47    1037     3"
      ]
     },
     "execution_count": 113,
     "metadata": {
      "tags": []
     },
     "output_type": "execute_result"
    }
   ],
   "source": [
    "df5.head()"
   ]
  },
  {
   "cell_type": "code",
   "execution_count": 0,
   "metadata": {
    "colab": {},
    "colab_type": "code",
    "id": "7CUnX6220WVx"
   },
   "outputs": [],
   "source": [
    "#juntando todos os arquivos\n",
    "df = pd.concat([df1,df2,df3,df4,df5])"
   ]
  },
  {
   "cell_type": "code",
   "execution_count": 115,
   "metadata": {
    "colab": {
     "base_uri": "https://localhost:8080/",
     "height": 204
    },
    "colab_type": "code",
    "id": "3ZFau-ii08Lr",
    "outputId": "f1ed7fc3-ac01-4af0-cfae-392c343ffb03"
   },
   "outputs": [
    {
     "data": {
      "text/html": [
       "<div>\n",
       "<style scoped>\n",
       "    .dataframe tbody tr th:only-of-type {\n",
       "        vertical-align: middle;\n",
       "    }\n",
       "\n",
       "    .dataframe tbody tr th {\n",
       "        vertical-align: top;\n",
       "    }\n",
       "\n",
       "    .dataframe thead th {\n",
       "        text-align: right;\n",
       "    }\n",
       "</style>\n",
       "<table border=\"1\" class=\"dataframe\">\n",
       "  <thead>\n",
       "    <tr style=\"text-align: right;\">\n",
       "      <th></th>\n",
       "      <th>Cidade</th>\n",
       "      <th>Data</th>\n",
       "      <th>Vendas</th>\n",
       "      <th>LojaID</th>\n",
       "      <th>Qtde</th>\n",
       "    </tr>\n",
       "  </thead>\n",
       "  <tbody>\n",
       "    <tr>\n",
       "      <th>0</th>\n",
       "      <td>Aracaju</td>\n",
       "      <td>2018-01-01</td>\n",
       "      <td>142.00</td>\n",
       "      <td>1520</td>\n",
       "      <td>1</td>\n",
       "    </tr>\n",
       "    <tr>\n",
       "      <th>1</th>\n",
       "      <td>Aracaju</td>\n",
       "      <td>2018-01-01</td>\n",
       "      <td>14.21</td>\n",
       "      <td>1522</td>\n",
       "      <td>6</td>\n",
       "    </tr>\n",
       "    <tr>\n",
       "      <th>2</th>\n",
       "      <td>Aracaju</td>\n",
       "      <td>2018-01-01</td>\n",
       "      <td>71.55</td>\n",
       "      <td>1520</td>\n",
       "      <td>1</td>\n",
       "    </tr>\n",
       "    <tr>\n",
       "      <th>3</th>\n",
       "      <td>Aracaju</td>\n",
       "      <td>2018-01-01</td>\n",
       "      <td>3.01</td>\n",
       "      <td>1521</td>\n",
       "      <td>7</td>\n",
       "    </tr>\n",
       "    <tr>\n",
       "      <th>4</th>\n",
       "      <td>Aracaju</td>\n",
       "      <td>2018-01-01</td>\n",
       "      <td>24.51</td>\n",
       "      <td>1522</td>\n",
       "      <td>8</td>\n",
       "    </tr>\n",
       "  </tbody>\n",
       "</table>\n",
       "</div>"
      ],
      "text/plain": [
       "    Cidade       Data  Vendas  LojaID  Qtde\n",
       "0  Aracaju 2018-01-01  142.00    1520     1\n",
       "1  Aracaju 2018-01-01   14.21    1522     6\n",
       "2  Aracaju 2018-01-01   71.55    1520     1\n",
       "3  Aracaju 2018-01-01    3.01    1521     7\n",
       "4  Aracaju 2018-01-01   24.51    1522     8"
      ]
     },
     "execution_count": 115,
     "metadata": {
      "tags": []
     },
     "output_type": "execute_result"
    }
   ],
   "source": [
    "#Exibindo as 5 primeiras linhas\n",
    "df.head()"
   ]
  },
  {
   "cell_type": "code",
   "execution_count": 54,
   "metadata": {
    "colab": {
     "base_uri": "https://localhost:8080/",
     "height": 204
    },
    "colab_type": "code",
    "id": "oURFLxhL09Uq",
    "outputId": "15c819f5-a1c0-42ac-a1be-4727c424340a"
   },
   "outputs": [
    {
     "data": {
      "text/html": [
       "<div>\n",
       "<style scoped>\n",
       "    .dataframe tbody tr th:only-of-type {\n",
       "        vertical-align: middle;\n",
       "    }\n",
       "\n",
       "    .dataframe tbody tr th {\n",
       "        vertical-align: top;\n",
       "    }\n",
       "\n",
       "    .dataframe thead th {\n",
       "        text-align: right;\n",
       "    }\n",
       "</style>\n",
       "<table border=\"1\" class=\"dataframe\">\n",
       "  <thead>\n",
       "    <tr style=\"text-align: right;\">\n",
       "      <th></th>\n",
       "      <th>Cidade</th>\n",
       "      <th>Data</th>\n",
       "      <th>Vendas</th>\n",
       "      <th>LojaID</th>\n",
       "      <th>Qtde</th>\n",
       "    </tr>\n",
       "  </thead>\n",
       "  <tbody>\n",
       "    <tr>\n",
       "      <th>235</th>\n",
       "      <td>Salvador</td>\n",
       "      <td>2019-01-03</td>\n",
       "      <td>41.84</td>\n",
       "      <td>1034</td>\n",
       "      <td>1</td>\n",
       "    </tr>\n",
       "    <tr>\n",
       "      <th>236</th>\n",
       "      <td>Salvador</td>\n",
       "      <td>2019-01-03</td>\n",
       "      <td>126.29</td>\n",
       "      <td>1035</td>\n",
       "      <td>3</td>\n",
       "    </tr>\n",
       "    <tr>\n",
       "      <th>237</th>\n",
       "      <td>Salvador</td>\n",
       "      <td>2019-01-03</td>\n",
       "      <td>38.06</td>\n",
       "      <td>1036</td>\n",
       "      <td>3</td>\n",
       "    </tr>\n",
       "    <tr>\n",
       "      <th>238</th>\n",
       "      <td>Salvador</td>\n",
       "      <td>2019-01-03</td>\n",
       "      <td>139.64</td>\n",
       "      <td>1035</td>\n",
       "      <td>1</td>\n",
       "    </tr>\n",
       "    <tr>\n",
       "      <th>239</th>\n",
       "      <td>Salvador</td>\n",
       "      <td>2019-01-03</td>\n",
       "      <td>161.41</td>\n",
       "      <td>1037</td>\n",
       "      <td>3</td>\n",
       "    </tr>\n",
       "  </tbody>\n",
       "</table>\n",
       "</div>"
      ],
      "text/plain": [
       "       Cidade       Data  Vendas  LojaID  Qtde\n",
       "235  Salvador 2019-01-03   41.84    1034     1\n",
       "236  Salvador 2019-01-03  126.29    1035     3\n",
       "237  Salvador 2019-01-03   38.06    1036     3\n",
       "238  Salvador 2019-01-03  139.64    1035     1\n",
       "239  Salvador 2019-01-03  161.41    1037     3"
      ]
     },
     "execution_count": 54,
     "metadata": {
      "tags": []
     },
     "output_type": "execute_result"
    }
   ],
   "source": [
    "#Exibindo as 5 últimas linhas\n",
    "df.tail()"
   ]
  },
  {
   "cell_type": "code",
   "execution_count": 57,
   "metadata": {
    "colab": {
     "base_uri": "https://localhost:8080/",
     "height": 204
    },
    "colab_type": "code",
    "id": "j8eDDblOBsRG",
    "outputId": "efe39301-6ece-4446-a3b9-60cb39095e69"
   },
   "outputs": [
    {
     "data": {
      "text/html": [
       "<div>\n",
       "<style scoped>\n",
       "    .dataframe tbody tr th:only-of-type {\n",
       "        vertical-align: middle;\n",
       "    }\n",
       "\n",
       "    .dataframe tbody tr th {\n",
       "        vertical-align: top;\n",
       "    }\n",
       "\n",
       "    .dataframe thead th {\n",
       "        text-align: right;\n",
       "    }\n",
       "</style>\n",
       "<table border=\"1\" class=\"dataframe\">\n",
       "  <thead>\n",
       "    <tr style=\"text-align: right;\">\n",
       "      <th></th>\n",
       "      <th>Cidade</th>\n",
       "      <th>Data</th>\n",
       "      <th>Vendas</th>\n",
       "      <th>LojaID</th>\n",
       "      <th>Qtde</th>\n",
       "    </tr>\n",
       "  </thead>\n",
       "  <tbody>\n",
       "    <tr>\n",
       "      <th>55</th>\n",
       "      <td>Aracaju</td>\n",
       "      <td>2018-01-01</td>\n",
       "      <td>67.23</td>\n",
       "      <td>1520</td>\n",
       "      <td>8</td>\n",
       "    </tr>\n",
       "    <tr>\n",
       "      <th>228</th>\n",
       "      <td>Natal</td>\n",
       "      <td>2019-01-02</td>\n",
       "      <td>6.87</td>\n",
       "      <td>1037</td>\n",
       "      <td>3</td>\n",
       "    </tr>\n",
       "    <tr>\n",
       "      <th>12</th>\n",
       "      <td>Recife</td>\n",
       "      <td>2019-01-01</td>\n",
       "      <td>17.48</td>\n",
       "      <td>982</td>\n",
       "      <td>2</td>\n",
       "    </tr>\n",
       "    <tr>\n",
       "      <th>68</th>\n",
       "      <td>Salvador</td>\n",
       "      <td>2019-01-01</td>\n",
       "      <td>162.35</td>\n",
       "      <td>1037</td>\n",
       "      <td>3</td>\n",
       "    </tr>\n",
       "    <tr>\n",
       "      <th>160</th>\n",
       "      <td>Natal</td>\n",
       "      <td>2019-01-02</td>\n",
       "      <td>11.76</td>\n",
       "      <td>1034</td>\n",
       "      <td>1</td>\n",
       "    </tr>\n",
       "  </tbody>\n",
       "</table>\n",
       "</div>"
      ],
      "text/plain": [
       "       Cidade       Data  Vendas  LojaID  Qtde\n",
       "55    Aracaju 2018-01-01   67.23    1520     8\n",
       "228     Natal 2019-01-02    6.87    1037     3\n",
       "12     Recife 2019-01-01   17.48     982     2\n",
       "68   Salvador 2019-01-01  162.35    1037     3\n",
       "160     Natal 2019-01-02   11.76    1034     1"
      ]
     },
     "execution_count": 57,
     "metadata": {
      "tags": []
     },
     "output_type": "execute_result"
    }
   ],
   "source": [
    "df.sample(5)"
   ]
  },
  {
   "cell_type": "code",
   "execution_count": 58,
   "metadata": {
    "colab": {
     "base_uri": "https://localhost:8080/",
     "height": 119
    },
    "colab_type": "code",
    "id": "kw0zQfVL0_-L",
    "outputId": "3617ad27-63b0-483f-ea6e-1a8413272afc"
   },
   "outputs": [
    {
     "data": {
      "text/plain": [
       "Cidade            object\n",
       "Data      datetime64[ns]\n",
       "Vendas           float64\n",
       "LojaID             int64\n",
       "Qtde               int64\n",
       "dtype: object"
      ]
     },
     "execution_count": 58,
     "metadata": {
      "tags": []
     },
     "output_type": "execute_result"
    }
   ],
   "source": [
    "#Verificando o tipo de dado de cada coluna\n",
    "df.dtypes"
   ]
  },
  {
   "cell_type": "code",
   "execution_count": 0,
   "metadata": {
    "colab": {},
    "colab_type": "code",
    "id": "JB2rkM0b1kKF"
   },
   "outputs": [],
   "source": [
    "#Alterando o tipo de dado da coluna LojaID\n",
    "df[\"LojaID\"] = df[\"LojaID\"].astype(\"object\")"
   ]
  },
  {
   "cell_type": "code",
   "execution_count": 60,
   "metadata": {
    "colab": {
     "base_uri": "https://localhost:8080/",
     "height": 119
    },
    "colab_type": "code",
    "id": "3t1uir2H1w3x",
    "outputId": "a8d766f2-504e-4fcb-dc09-842b4c5218b6"
   },
   "outputs": [
    {
     "data": {
      "text/plain": [
       "Cidade            object\n",
       "Data      datetime64[ns]\n",
       "Vendas           float64\n",
       "LojaID            object\n",
       "Qtde               int64\n",
       "dtype: object"
      ]
     },
     "execution_count": 60,
     "metadata": {
      "tags": []
     },
     "output_type": "execute_result"
    }
   ],
   "source": [
    "df.dtypes"
   ]
  },
  {
   "cell_type": "code",
   "execution_count": 61,
   "metadata": {
    "colab": {
     "base_uri": "https://localhost:8080/",
     "height": 204
    },
    "colab_type": "code",
    "id": "B0Z8PPuJ19dc",
    "outputId": "10d2f11c-d421-4434-fe61-dfa537b7d6bf"
   },
   "outputs": [
    {
     "data": {
      "text/html": [
       "<div>\n",
       "<style scoped>\n",
       "    .dataframe tbody tr th:only-of-type {\n",
       "        vertical-align: middle;\n",
       "    }\n",
       "\n",
       "    .dataframe tbody tr th {\n",
       "        vertical-align: top;\n",
       "    }\n",
       "\n",
       "    .dataframe thead th {\n",
       "        text-align: right;\n",
       "    }\n",
       "</style>\n",
       "<table border=\"1\" class=\"dataframe\">\n",
       "  <thead>\n",
       "    <tr style=\"text-align: right;\">\n",
       "      <th></th>\n",
       "      <th>Cidade</th>\n",
       "      <th>Data</th>\n",
       "      <th>Vendas</th>\n",
       "      <th>LojaID</th>\n",
       "      <th>Qtde</th>\n",
       "    </tr>\n",
       "  </thead>\n",
       "  <tbody>\n",
       "    <tr>\n",
       "      <th>0</th>\n",
       "      <td>Aracaju</td>\n",
       "      <td>2018-01-01</td>\n",
       "      <td>142.00</td>\n",
       "      <td>1520</td>\n",
       "      <td>1</td>\n",
       "    </tr>\n",
       "    <tr>\n",
       "      <th>1</th>\n",
       "      <td>Aracaju</td>\n",
       "      <td>2018-01-01</td>\n",
       "      <td>14.21</td>\n",
       "      <td>1522</td>\n",
       "      <td>6</td>\n",
       "    </tr>\n",
       "    <tr>\n",
       "      <th>2</th>\n",
       "      <td>Aracaju</td>\n",
       "      <td>2018-01-01</td>\n",
       "      <td>71.55</td>\n",
       "      <td>1520</td>\n",
       "      <td>1</td>\n",
       "    </tr>\n",
       "    <tr>\n",
       "      <th>3</th>\n",
       "      <td>Aracaju</td>\n",
       "      <td>2018-01-01</td>\n",
       "      <td>3.01</td>\n",
       "      <td>1521</td>\n",
       "      <td>7</td>\n",
       "    </tr>\n",
       "    <tr>\n",
       "      <th>4</th>\n",
       "      <td>Aracaju</td>\n",
       "      <td>2018-01-01</td>\n",
       "      <td>24.51</td>\n",
       "      <td>1522</td>\n",
       "      <td>8</td>\n",
       "    </tr>\n",
       "  </tbody>\n",
       "</table>\n",
       "</div>"
      ],
      "text/plain": [
       "    Cidade       Data  Vendas LojaID  Qtde\n",
       "0  Aracaju 2018-01-01  142.00   1520     1\n",
       "1  Aracaju 2018-01-01   14.21   1522     6\n",
       "2  Aracaju 2018-01-01   71.55   1520     1\n",
       "3  Aracaju 2018-01-01    3.01   1521     7\n",
       "4  Aracaju 2018-01-01   24.51   1522     8"
      ]
     },
     "execution_count": 61,
     "metadata": {
      "tags": []
     },
     "output_type": "execute_result"
    }
   ],
   "source": [
    "df.head()"
   ]
  },
  {
   "cell_type": "markdown",
   "metadata": {
    "colab_type": "text",
    "id": "br1B_k4v2HVF"
   },
   "source": [
    "**Tratando valores faltantes**"
   ]
  },
  {
   "cell_type": "code",
   "execution_count": 117,
   "metadata": {
    "colab": {
     "base_uri": "https://localhost:8080/",
     "height": 119
    },
    "colab_type": "code",
    "id": "J5L9EehP2MQ_",
    "outputId": "91e21217-879a-426d-8b2b-fb15e77b2f87"
   },
   "outputs": [
    {
     "data": {
      "text/plain": [
       "Cidade    0\n",
       "Data      0\n",
       "Vendas    7\n",
       "LojaID    0\n",
       "Qtde      0\n",
       "dtype: int64"
      ]
     },
     "execution_count": 117,
     "metadata": {
      "tags": []
     },
     "output_type": "execute_result"
    }
   ],
   "source": [
    "#Consultando linhas com valores faltantes\n",
    "df.isnull().sum()"
   ]
  },
  {
   "cell_type": "code",
   "execution_count": 0,
   "metadata": {
    "colab": {},
    "colab_type": "code",
    "id": "Pbq2ztpN3Qn8"
   },
   "outputs": [],
   "source": [
    "#Substituindo os valores nulos pela média\n",
    "df[\"Vendas\"].fillna(df[\"Vendas\"].mean(), inplace=True)"
   ]
  },
  {
   "cell_type": "code",
   "execution_count": 68,
   "metadata": {
    "colab": {
     "base_uri": "https://localhost:8080/",
     "height": 34
    },
    "colab_type": "code",
    "id": "mD0kfsgSC4Qm",
    "outputId": "ed9d1efa-e3b7-479e-9119-bab340148876"
   },
   "outputs": [
    {
     "data": {
      "text/plain": [
       "122.9339571589626"
      ]
     },
     "execution_count": 68,
     "metadata": {
      "tags": []
     },
     "output_type": "execute_result"
    }
   ],
   "source": [
    "df[\"Vendas\"].mean()"
   ]
  },
  {
   "cell_type": "code",
   "execution_count": 70,
   "metadata": {
    "colab": {
     "base_uri": "https://localhost:8080/",
     "height": 119
    },
    "colab_type": "code",
    "id": "lA5QVn5N4C-A",
    "outputId": "84874d37-3368-452f-bed6-43782dea6cf6"
   },
   "outputs": [
    {
     "data": {
      "text/plain": [
       "Cidade    0\n",
       "Data      0\n",
       "Vendas    0\n",
       "LojaID    0\n",
       "Qtde      0\n",
       "dtype: int64"
      ]
     },
     "execution_count": 70,
     "metadata": {
      "tags": []
     },
     "output_type": "execute_result"
    }
   ],
   "source": [
    "df.isnull().sum()"
   ]
  },
  {
   "cell_type": "code",
   "execution_count": 65,
   "metadata": {
    "colab": {
     "base_uri": "https://localhost:8080/",
     "height": 514
    },
    "colab_type": "code",
    "id": "ds7pcl-ZCzb_",
    "outputId": "e37c7b13-8bd1-46e2-e3f3-104e7fce8f8a"
   },
   "outputs": [
    {
     "data": {
      "text/html": [
       "<div>\n",
       "<style scoped>\n",
       "    .dataframe tbody tr th:only-of-type {\n",
       "        vertical-align: middle;\n",
       "    }\n",
       "\n",
       "    .dataframe tbody tr th {\n",
       "        vertical-align: top;\n",
       "    }\n",
       "\n",
       "    .dataframe thead th {\n",
       "        text-align: right;\n",
       "    }\n",
       "</style>\n",
       "<table border=\"1\" class=\"dataframe\">\n",
       "  <thead>\n",
       "    <tr style=\"text-align: right;\">\n",
       "      <th></th>\n",
       "      <th>Cidade</th>\n",
       "      <th>Data</th>\n",
       "      <th>Vendas</th>\n",
       "      <th>LojaID</th>\n",
       "      <th>Qtde</th>\n",
       "    </tr>\n",
       "  </thead>\n",
       "  <tbody>\n",
       "    <tr>\n",
       "      <th>216</th>\n",
       "      <td>Salvador</td>\n",
       "      <td>2019-01-02</td>\n",
       "      <td>5.82</td>\n",
       "      <td>1035</td>\n",
       "      <td>1</td>\n",
       "    </tr>\n",
       "    <tr>\n",
       "      <th>224</th>\n",
       "      <td>Natal</td>\n",
       "      <td>2019-01-02</td>\n",
       "      <td>178.30</td>\n",
       "      <td>1035</td>\n",
       "      <td>3</td>\n",
       "    </tr>\n",
       "    <tr>\n",
       "      <th>34</th>\n",
       "      <td>Recife</td>\n",
       "      <td>2019-01-01</td>\n",
       "      <td>24.97</td>\n",
       "      <td>980</td>\n",
       "      <td>5</td>\n",
       "    </tr>\n",
       "    <tr>\n",
       "      <th>74</th>\n",
       "      <td>Recife</td>\n",
       "      <td>2019-01-01</td>\n",
       "      <td>38.79</td>\n",
       "      <td>983</td>\n",
       "      <td>6</td>\n",
       "    </tr>\n",
       "    <tr>\n",
       "      <th>193</th>\n",
       "      <td>Natal</td>\n",
       "      <td>2019-01-02</td>\n",
       "      <td>3.97</td>\n",
       "      <td>1036</td>\n",
       "      <td>2</td>\n",
       "    </tr>\n",
       "    <tr>\n",
       "      <th>136</th>\n",
       "      <td>Natal</td>\n",
       "      <td>2019-01-02</td>\n",
       "      <td>13.81</td>\n",
       "      <td>1036</td>\n",
       "      <td>1</td>\n",
       "    </tr>\n",
       "    <tr>\n",
       "      <th>113</th>\n",
       "      <td>Fortaleza</td>\n",
       "      <td>2019-03-02</td>\n",
       "      <td>38.63</td>\n",
       "      <td>980</td>\n",
       "      <td>2</td>\n",
       "    </tr>\n",
       "    <tr>\n",
       "      <th>64</th>\n",
       "      <td>Fortaleza</td>\n",
       "      <td>2019-01-01</td>\n",
       "      <td>110.31</td>\n",
       "      <td>1005</td>\n",
       "      <td>4</td>\n",
       "    </tr>\n",
       "    <tr>\n",
       "      <th>121</th>\n",
       "      <td>Aracaju</td>\n",
       "      <td>2018-01-01</td>\n",
       "      <td>162.07</td>\n",
       "      <td>1520</td>\n",
       "      <td>3</td>\n",
       "    </tr>\n",
       "    <tr>\n",
       "      <th>6</th>\n",
       "      <td>Aracaju</td>\n",
       "      <td>2018-01-01</td>\n",
       "      <td>35.50</td>\n",
       "      <td>1522</td>\n",
       "      <td>2</td>\n",
       "    </tr>\n",
       "    <tr>\n",
       "      <th>118</th>\n",
       "      <td>Natal</td>\n",
       "      <td>2019-01-02</td>\n",
       "      <td>92.21</td>\n",
       "      <td>1035</td>\n",
       "      <td>2</td>\n",
       "    </tr>\n",
       "    <tr>\n",
       "      <th>10</th>\n",
       "      <td>Recife</td>\n",
       "      <td>2019-01-01</td>\n",
       "      <td>38.51</td>\n",
       "      <td>982</td>\n",
       "      <td>8</td>\n",
       "    </tr>\n",
       "    <tr>\n",
       "      <th>41</th>\n",
       "      <td>Aracaju</td>\n",
       "      <td>2018-01-01</td>\n",
       "      <td>229.64</td>\n",
       "      <td>1520</td>\n",
       "      <td>8</td>\n",
       "    </tr>\n",
       "    <tr>\n",
       "      <th>130</th>\n",
       "      <td>Fortaleza</td>\n",
       "      <td>2019-03-02</td>\n",
       "      <td>12.36</td>\n",
       "      <td>983</td>\n",
       "      <td>4</td>\n",
       "    </tr>\n",
       "    <tr>\n",
       "      <th>130</th>\n",
       "      <td>Salvador</td>\n",
       "      <td>2019-03-02</td>\n",
       "      <td>59.78</td>\n",
       "      <td>1036</td>\n",
       "      <td>1</td>\n",
       "    </tr>\n",
       "  </tbody>\n",
       "</table>\n",
       "</div>"
      ],
      "text/plain": [
       "        Cidade       Data  Vendas LojaID  Qtde\n",
       "216   Salvador 2019-01-02    5.82   1035     1\n",
       "224      Natal 2019-01-02  178.30   1035     3\n",
       "34      Recife 2019-01-01   24.97    980     5\n",
       "74      Recife 2019-01-01   38.79    983     6\n",
       "193      Natal 2019-01-02    3.97   1036     2\n",
       "136      Natal 2019-01-02   13.81   1036     1\n",
       "113  Fortaleza 2019-03-02   38.63    980     2\n",
       "64   Fortaleza 2019-01-01  110.31   1005     4\n",
       "121    Aracaju 2018-01-01  162.07   1520     3\n",
       "6      Aracaju 2018-01-01   35.50   1522     2\n",
       "118      Natal 2019-01-02   92.21   1035     2\n",
       "10      Recife 2019-01-01   38.51    982     8\n",
       "41     Aracaju 2018-01-01  229.64   1520     8\n",
       "130  Fortaleza 2019-03-02   12.36    983     4\n",
       "130   Salvador 2019-03-02   59.78   1036     1"
      ]
     },
     "execution_count": 65,
     "metadata": {
      "tags": []
     },
     "output_type": "execute_result"
    }
   ],
   "source": [
    "df.sample(15)"
   ]
  },
  {
   "cell_type": "code",
   "execution_count": 0,
   "metadata": {
    "colab": {},
    "colab_type": "code",
    "id": "mMzEuPzg4N7U"
   },
   "outputs": [],
   "source": [
    "#Substituindo os valores nulos por zero\n",
    "df[\"Vendas\"].fillna(0, inplace=True)"
   ]
  },
  {
   "cell_type": "code",
   "execution_count": 0,
   "metadata": {
    "colab": {},
    "colab_type": "code",
    "id": "pS7Hw6Df4Z7x"
   },
   "outputs": [],
   "source": [
    "#Apagando as linhas com valores nulos\n",
    "df.dropna(inplace=True)"
   ]
  },
  {
   "cell_type": "code",
   "execution_count": 0,
   "metadata": {
    "colab": {},
    "colab_type": "code",
    "id": "iCpMj9MD4mW4"
   },
   "outputs": [],
   "source": [
    "#Apagando as linhas com valores nulos com base apenas em 1 coluna\n",
    "df.dropna(subset=[\"Vendas\"], inplace=True)"
   ]
  },
  {
   "cell_type": "code",
   "execution_count": 0,
   "metadata": {
    "colab": {},
    "colab_type": "code",
    "id": "LYGy2VqH8uaM"
   },
   "outputs": [],
   "source": [
    "#Removendo linhas que estejam com valores faltantes em todas as colunas\n",
    "df.dropna(how=\"all\", inplace=True)"
   ]
  },
  {
   "cell_type": "markdown",
   "metadata": {
    "colab_type": "text",
    "id": "6qEyt17h9IwX"
   },
   "source": [
    "**Criando colunas novas**"
   ]
  },
  {
   "cell_type": "code",
   "execution_count": 0,
   "metadata": {
    "colab": {},
    "colab_type": "code",
    "id": "1HAAiPkh1yIN"
   },
   "outputs": [],
   "source": [
    "#Criando a coluna de receita\n",
    "df[\"Receita\"] = df[\"Vendas\"].mul(df[\"Qtde\"])"
   ]
  },
  {
   "cell_type": "code",
   "execution_count": 72,
   "metadata": {
    "colab": {
     "base_uri": "https://localhost:8080/",
     "height": 204
    },
    "colab_type": "code",
    "id": "_gMBlvMq5fPj",
    "outputId": "a971500e-05cb-417a-f782-9a7737c2728f"
   },
   "outputs": [
    {
     "data": {
      "text/html": [
       "<div>\n",
       "<style scoped>\n",
       "    .dataframe tbody tr th:only-of-type {\n",
       "        vertical-align: middle;\n",
       "    }\n",
       "\n",
       "    .dataframe tbody tr th {\n",
       "        vertical-align: top;\n",
       "    }\n",
       "\n",
       "    .dataframe thead th {\n",
       "        text-align: right;\n",
       "    }\n",
       "</style>\n",
       "<table border=\"1\" class=\"dataframe\">\n",
       "  <thead>\n",
       "    <tr style=\"text-align: right;\">\n",
       "      <th></th>\n",
       "      <th>Cidade</th>\n",
       "      <th>Data</th>\n",
       "      <th>Vendas</th>\n",
       "      <th>LojaID</th>\n",
       "      <th>Qtde</th>\n",
       "      <th>Receita</th>\n",
       "    </tr>\n",
       "  </thead>\n",
       "  <tbody>\n",
       "    <tr>\n",
       "      <th>0</th>\n",
       "      <td>Aracaju</td>\n",
       "      <td>2018-01-01</td>\n",
       "      <td>142.00</td>\n",
       "      <td>1520</td>\n",
       "      <td>1</td>\n",
       "      <td>142.00</td>\n",
       "    </tr>\n",
       "    <tr>\n",
       "      <th>1</th>\n",
       "      <td>Aracaju</td>\n",
       "      <td>2018-01-01</td>\n",
       "      <td>14.21</td>\n",
       "      <td>1522</td>\n",
       "      <td>6</td>\n",
       "      <td>85.26</td>\n",
       "    </tr>\n",
       "    <tr>\n",
       "      <th>2</th>\n",
       "      <td>Aracaju</td>\n",
       "      <td>2018-01-01</td>\n",
       "      <td>71.55</td>\n",
       "      <td>1520</td>\n",
       "      <td>1</td>\n",
       "      <td>71.55</td>\n",
       "    </tr>\n",
       "    <tr>\n",
       "      <th>3</th>\n",
       "      <td>Aracaju</td>\n",
       "      <td>2018-01-01</td>\n",
       "      <td>3.01</td>\n",
       "      <td>1521</td>\n",
       "      <td>7</td>\n",
       "      <td>21.07</td>\n",
       "    </tr>\n",
       "    <tr>\n",
       "      <th>4</th>\n",
       "      <td>Aracaju</td>\n",
       "      <td>2018-01-01</td>\n",
       "      <td>24.51</td>\n",
       "      <td>1522</td>\n",
       "      <td>8</td>\n",
       "      <td>196.08</td>\n",
       "    </tr>\n",
       "  </tbody>\n",
       "</table>\n",
       "</div>"
      ],
      "text/plain": [
       "    Cidade       Data  Vendas  LojaID  Qtde  Receita\n",
       "0  Aracaju 2018-01-01  142.00    1520     1   142.00\n",
       "1  Aracaju 2018-01-01   14.21    1522     6    85.26\n",
       "2  Aracaju 2018-01-01   71.55    1520     1    71.55\n",
       "3  Aracaju 2018-01-01    3.01    1521     7    21.07\n",
       "4  Aracaju 2018-01-01   24.51    1522     8   196.08"
      ]
     },
     "execution_count": 72,
     "metadata": {
      "tags": []
     },
     "output_type": "execute_result"
    }
   ],
   "source": [
    "df.head()"
   ]
  },
  {
   "cell_type": "code",
   "execution_count": 0,
   "metadata": {
    "colab": {},
    "colab_type": "code",
    "id": "DyU5SIhB9Q8w"
   },
   "outputs": [],
   "source": [
    "df[\"Receita/Vendas\"] = df[\"Receita\"] / df[\"Vendas\"] "
   ]
  },
  {
   "cell_type": "code",
   "execution_count": 74,
   "metadata": {
    "colab": {
     "base_uri": "https://localhost:8080/",
     "height": 204
    },
    "colab_type": "code",
    "id": "YfMgO16q9m8F",
    "outputId": "6b323566-e8aa-4a51-8623-cd0c7ec0cd69"
   },
   "outputs": [
    {
     "data": {
      "text/html": [
       "<div>\n",
       "<style scoped>\n",
       "    .dataframe tbody tr th:only-of-type {\n",
       "        vertical-align: middle;\n",
       "    }\n",
       "\n",
       "    .dataframe tbody tr th {\n",
       "        vertical-align: top;\n",
       "    }\n",
       "\n",
       "    .dataframe thead th {\n",
       "        text-align: right;\n",
       "    }\n",
       "</style>\n",
       "<table border=\"1\" class=\"dataframe\">\n",
       "  <thead>\n",
       "    <tr style=\"text-align: right;\">\n",
       "      <th></th>\n",
       "      <th>Cidade</th>\n",
       "      <th>Data</th>\n",
       "      <th>Vendas</th>\n",
       "      <th>LojaID</th>\n",
       "      <th>Qtde</th>\n",
       "      <th>Receita</th>\n",
       "      <th>Receita/Vendas</th>\n",
       "    </tr>\n",
       "  </thead>\n",
       "  <tbody>\n",
       "    <tr>\n",
       "      <th>0</th>\n",
       "      <td>Aracaju</td>\n",
       "      <td>2018-01-01</td>\n",
       "      <td>142.00</td>\n",
       "      <td>1520</td>\n",
       "      <td>1</td>\n",
       "      <td>142.00</td>\n",
       "      <td>1.0</td>\n",
       "    </tr>\n",
       "    <tr>\n",
       "      <th>1</th>\n",
       "      <td>Aracaju</td>\n",
       "      <td>2018-01-01</td>\n",
       "      <td>14.21</td>\n",
       "      <td>1522</td>\n",
       "      <td>6</td>\n",
       "      <td>85.26</td>\n",
       "      <td>6.0</td>\n",
       "    </tr>\n",
       "    <tr>\n",
       "      <th>2</th>\n",
       "      <td>Aracaju</td>\n",
       "      <td>2018-01-01</td>\n",
       "      <td>71.55</td>\n",
       "      <td>1520</td>\n",
       "      <td>1</td>\n",
       "      <td>71.55</td>\n",
       "      <td>1.0</td>\n",
       "    </tr>\n",
       "    <tr>\n",
       "      <th>3</th>\n",
       "      <td>Aracaju</td>\n",
       "      <td>2018-01-01</td>\n",
       "      <td>3.01</td>\n",
       "      <td>1521</td>\n",
       "      <td>7</td>\n",
       "      <td>21.07</td>\n",
       "      <td>7.0</td>\n",
       "    </tr>\n",
       "    <tr>\n",
       "      <th>4</th>\n",
       "      <td>Aracaju</td>\n",
       "      <td>2018-01-01</td>\n",
       "      <td>24.51</td>\n",
       "      <td>1522</td>\n",
       "      <td>8</td>\n",
       "      <td>196.08</td>\n",
       "      <td>8.0</td>\n",
       "    </tr>\n",
       "  </tbody>\n",
       "</table>\n",
       "</div>"
      ],
      "text/plain": [
       "    Cidade       Data  Vendas  LojaID  Qtde  Receita  Receita/Vendas\n",
       "0  Aracaju 2018-01-01  142.00    1520     1   142.00             1.0\n",
       "1  Aracaju 2018-01-01   14.21    1522     6    85.26             6.0\n",
       "2  Aracaju 2018-01-01   71.55    1520     1    71.55             1.0\n",
       "3  Aracaju 2018-01-01    3.01    1521     7    21.07             7.0\n",
       "4  Aracaju 2018-01-01   24.51    1522     8   196.08             8.0"
      ]
     },
     "execution_count": 74,
     "metadata": {
      "tags": []
     },
     "output_type": "execute_result"
    }
   ],
   "source": [
    "df.head()"
   ]
  },
  {
   "cell_type": "code",
   "execution_count": 121,
   "metadata": {
    "colab": {
     "base_uri": "https://localhost:8080/",
     "height": 34
    },
    "colab_type": "code",
    "id": "8uy9S6JZ3DB4",
    "outputId": "1e059579-152c-4151-8aaf-2f61e689644b"
   },
   "outputs": [
    {
     "data": {
      "text/plain": [
       "3544.0"
      ]
     },
     "execution_count": 121,
     "metadata": {
      "tags": []
     },
     "output_type": "execute_result"
    }
   ],
   "source": [
    "#Retornando a maior receita\n",
    "df[\"Receita\"].max()"
   ]
  },
  {
   "cell_type": "code",
   "execution_count": 76,
   "metadata": {
    "colab": {
     "base_uri": "https://localhost:8080/",
     "height": 34
    },
    "colab_type": "code",
    "id": "y0eoDEcQ5cZC",
    "outputId": "4a520c61-b418-4bdc-8196-f4ea5eee07c8"
   },
   "outputs": [
    {
     "data": {
      "text/plain": [
       "0.0"
      ]
     },
     "execution_count": 76,
     "metadata": {
      "tags": []
     },
     "output_type": "execute_result"
    }
   ],
   "source": [
    "#Retornando a menor receita\n",
    "df[\"Receita\"].min()"
   ]
  },
  {
   "cell_type": "code",
   "execution_count": 122,
   "metadata": {
    "colab": {
     "base_uri": "https://localhost:8080/",
     "height": 142
    },
    "colab_type": "code",
    "id": "gX87zZJ45p5e",
    "outputId": "bf1cce13-9157-4752-cf40-32b31f0c6977"
   },
   "outputs": [
    {
     "data": {
      "text/html": [
       "<div>\n",
       "<style scoped>\n",
       "    .dataframe tbody tr th:only-of-type {\n",
       "        vertical-align: middle;\n",
       "    }\n",
       "\n",
       "    .dataframe tbody tr th {\n",
       "        vertical-align: top;\n",
       "    }\n",
       "\n",
       "    .dataframe thead th {\n",
       "        text-align: right;\n",
       "    }\n",
       "</style>\n",
       "<table border=\"1\" class=\"dataframe\">\n",
       "  <thead>\n",
       "    <tr style=\"text-align: right;\">\n",
       "      <th></th>\n",
       "      <th>Cidade</th>\n",
       "      <th>Data</th>\n",
       "      <th>Vendas</th>\n",
       "      <th>LojaID</th>\n",
       "      <th>Qtde</th>\n",
       "      <th>Receita</th>\n",
       "      <th>Receita/Vendas</th>\n",
       "    </tr>\n",
       "  </thead>\n",
       "  <tbody>\n",
       "    <tr>\n",
       "      <th>7</th>\n",
       "      <td>Natal</td>\n",
       "      <td>2019-03-18</td>\n",
       "      <td>886.0</td>\n",
       "      <td>853</td>\n",
       "      <td>4</td>\n",
       "      <td>3544.0</td>\n",
       "      <td>4.0</td>\n",
       "    </tr>\n",
       "    <tr>\n",
       "      <th>51</th>\n",
       "      <td>Natal</td>\n",
       "      <td>2018-01-21</td>\n",
       "      <td>859.0</td>\n",
       "      <td>852</td>\n",
       "      <td>4</td>\n",
       "      <td>3436.0</td>\n",
       "      <td>4.0</td>\n",
       "    </tr>\n",
       "    <tr>\n",
       "      <th>55</th>\n",
       "      <td>Natal</td>\n",
       "      <td>2019-01-08</td>\n",
       "      <td>859.0</td>\n",
       "      <td>854</td>\n",
       "      <td>4</td>\n",
       "      <td>3436.0</td>\n",
       "      <td>4.0</td>\n",
       "    </tr>\n",
       "  </tbody>\n",
       "</table>\n",
       "</div>"
      ],
      "text/plain": [
       "   Cidade       Data  Vendas LojaID  Qtde  Receita  Receita/Vendas\n",
       "7   Natal 2019-03-18   886.0    853     4   3544.0             4.0\n",
       "51  Natal 2018-01-21   859.0    852     4   3436.0             4.0\n",
       "55  Natal 2019-01-08   859.0    854     4   3436.0             4.0"
      ]
     },
     "execution_count": 122,
     "metadata": {
      "tags": []
     },
     "output_type": "execute_result"
    }
   ],
   "source": [
    "#nlargest\n",
    "df.nlargest(3, \"Receita\")"
   ]
  },
  {
   "cell_type": "code",
   "execution_count": 123,
   "metadata": {
    "colab": {
     "base_uri": "https://localhost:8080/",
     "height": 142
    },
    "colab_type": "code",
    "id": "gPK25dF_5w8q",
    "outputId": "dc8bdffa-f584-4baa-a1d9-67bf4006048a"
   },
   "outputs": [
    {
     "data": {
      "text/html": [
       "<div>\n",
       "<style scoped>\n",
       "    .dataframe tbody tr th:only-of-type {\n",
       "        vertical-align: middle;\n",
       "    }\n",
       "\n",
       "    .dataframe tbody tr th {\n",
       "        vertical-align: top;\n",
       "    }\n",
       "\n",
       "    .dataframe thead th {\n",
       "        text-align: right;\n",
       "    }\n",
       "</style>\n",
       "<table border=\"1\" class=\"dataframe\">\n",
       "  <thead>\n",
       "    <tr style=\"text-align: right;\">\n",
       "      <th></th>\n",
       "      <th>Cidade</th>\n",
       "      <th>Data</th>\n",
       "      <th>Vendas</th>\n",
       "      <th>LojaID</th>\n",
       "      <th>Qtde</th>\n",
       "      <th>Receita</th>\n",
       "      <th>Receita/Vendas</th>\n",
       "    </tr>\n",
       "  </thead>\n",
       "  <tbody>\n",
       "    <tr>\n",
       "      <th>7</th>\n",
       "      <td>Fortaleza</td>\n",
       "      <td>2019-02-11</td>\n",
       "      <td>0.0</td>\n",
       "      <td>1003</td>\n",
       "      <td>2</td>\n",
       "      <td>0.0</td>\n",
       "      <td>NaN</td>\n",
       "    </tr>\n",
       "    <tr>\n",
       "      <th>14</th>\n",
       "      <td>Fortaleza</td>\n",
       "      <td>2019-01-12</td>\n",
       "      <td>0.0</td>\n",
       "      <td>1005</td>\n",
       "      <td>1</td>\n",
       "      <td>0.0</td>\n",
       "      <td>NaN</td>\n",
       "    </tr>\n",
       "    <tr>\n",
       "      <th>34</th>\n",
       "      <td>Fortaleza</td>\n",
       "      <td>2019-01-01</td>\n",
       "      <td>0.0</td>\n",
       "      <td>1003</td>\n",
       "      <td>5</td>\n",
       "      <td>0.0</td>\n",
       "      <td>NaN</td>\n",
       "    </tr>\n",
       "  </tbody>\n",
       "</table>\n",
       "</div>"
      ],
      "text/plain": [
       "       Cidade       Data  Vendas LojaID  Qtde  Receita  Receita/Vendas\n",
       "7   Fortaleza 2019-02-11     0.0   1003     2      0.0             NaN\n",
       "14  Fortaleza 2019-01-12     0.0   1005     1      0.0             NaN\n",
       "34  Fortaleza 2019-01-01     0.0   1003     5      0.0             NaN"
      ]
     },
     "execution_count": 123,
     "metadata": {
      "tags": []
     },
     "output_type": "execute_result"
    }
   ],
   "source": [
    "#nsamllest\n",
    "df.nsmallest(3, \"Receita\")"
   ]
  },
  {
   "cell_type": "code",
   "execution_count": 124,
   "metadata": {
    "colab": {
     "base_uri": "https://localhost:8080/",
     "height": 136
    },
    "colab_type": "code",
    "id": "VS5Bu2fQ53fG",
    "outputId": "8d41e480-5db7-4175-cb4e-184f91a52a38"
   },
   "outputs": [
    {
     "data": {
      "text/plain": [
       "Cidade\n",
       "Aracaju       48748.25\n",
       "Fortaleza     36122.23\n",
       "Natal        167227.52\n",
       "Recife        51936.51\n",
       "Salvador      40596.73\n",
       "Name: Receita, dtype: float64"
      ]
     },
     "execution_count": 124,
     "metadata": {
      "tags": []
     },
     "output_type": "execute_result"
    }
   ],
   "source": [
    "#Agrupamento por cidade\n",
    "df.groupby(\"Cidade\")[\"Receita\"].sum()"
   ]
  },
  {
   "cell_type": "code",
   "execution_count": 125,
   "metadata": {
    "colab": {
     "base_uri": "https://localhost:8080/",
     "height": 359
    },
    "colab_type": "code",
    "id": "wYZDthyQ6DMI",
    "outputId": "524d93a9-0246-46fe-8bfe-9451bc52b65a"
   },
   "outputs": [
    {
     "data": {
      "text/html": [
       "<div>\n",
       "<style scoped>\n",
       "    .dataframe tbody tr th:only-of-type {\n",
       "        vertical-align: middle;\n",
       "    }\n",
       "\n",
       "    .dataframe tbody tr th {\n",
       "        vertical-align: top;\n",
       "    }\n",
       "\n",
       "    .dataframe thead th {\n",
       "        text-align: right;\n",
       "    }\n",
       "</style>\n",
       "<table border=\"1\" class=\"dataframe\">\n",
       "  <thead>\n",
       "    <tr style=\"text-align: right;\">\n",
       "      <th></th>\n",
       "      <th>Cidade</th>\n",
       "      <th>Data</th>\n",
       "      <th>Vendas</th>\n",
       "      <th>LojaID</th>\n",
       "      <th>Qtde</th>\n",
       "      <th>Receita</th>\n",
       "      <th>Receita/Vendas</th>\n",
       "    </tr>\n",
       "  </thead>\n",
       "  <tbody>\n",
       "    <tr>\n",
       "      <th>7</th>\n",
       "      <td>Natal</td>\n",
       "      <td>2019-03-18</td>\n",
       "      <td>886.0</td>\n",
       "      <td>853</td>\n",
       "      <td>4</td>\n",
       "      <td>3544.0</td>\n",
       "      <td>4.0</td>\n",
       "    </tr>\n",
       "    <tr>\n",
       "      <th>51</th>\n",
       "      <td>Natal</td>\n",
       "      <td>2018-01-21</td>\n",
       "      <td>859.0</td>\n",
       "      <td>852</td>\n",
       "      <td>4</td>\n",
       "      <td>3436.0</td>\n",
       "      <td>4.0</td>\n",
       "    </tr>\n",
       "    <tr>\n",
       "      <th>55</th>\n",
       "      <td>Natal</td>\n",
       "      <td>2019-01-08</td>\n",
       "      <td>859.0</td>\n",
       "      <td>854</td>\n",
       "      <td>4</td>\n",
       "      <td>3436.0</td>\n",
       "      <td>4.0</td>\n",
       "    </tr>\n",
       "    <tr>\n",
       "      <th>30</th>\n",
       "      <td>Natal</td>\n",
       "      <td>2018-10-02</td>\n",
       "      <td>856.0</td>\n",
       "      <td>853</td>\n",
       "      <td>4</td>\n",
       "      <td>3424.0</td>\n",
       "      <td>4.0</td>\n",
       "    </tr>\n",
       "    <tr>\n",
       "      <th>41</th>\n",
       "      <td>Natal</td>\n",
       "      <td>2018-05-20</td>\n",
       "      <td>835.0</td>\n",
       "      <td>852</td>\n",
       "      <td>4</td>\n",
       "      <td>3340.0</td>\n",
       "      <td>4.0</td>\n",
       "    </tr>\n",
       "    <tr>\n",
       "      <th>10</th>\n",
       "      <td>Natal</td>\n",
       "      <td>2018-10-27</td>\n",
       "      <td>828.0</td>\n",
       "      <td>852</td>\n",
       "      <td>4</td>\n",
       "      <td>3312.0</td>\n",
       "      <td>4.0</td>\n",
       "    </tr>\n",
       "    <tr>\n",
       "      <th>38</th>\n",
       "      <td>Natal</td>\n",
       "      <td>2018-02-25</td>\n",
       "      <td>828.0</td>\n",
       "      <td>852</td>\n",
       "      <td>4</td>\n",
       "      <td>3312.0</td>\n",
       "      <td>4.0</td>\n",
       "    </tr>\n",
       "    <tr>\n",
       "      <th>69</th>\n",
       "      <td>Natal</td>\n",
       "      <td>2019-03-24</td>\n",
       "      <td>817.0</td>\n",
       "      <td>852</td>\n",
       "      <td>4</td>\n",
       "      <td>3268.0</td>\n",
       "      <td>4.0</td>\n",
       "    </tr>\n",
       "    <tr>\n",
       "      <th>62</th>\n",
       "      <td>Natal</td>\n",
       "      <td>2018-02-10</td>\n",
       "      <td>793.0</td>\n",
       "      <td>854</td>\n",
       "      <td>4</td>\n",
       "      <td>3172.0</td>\n",
       "      <td>4.0</td>\n",
       "    </tr>\n",
       "    <tr>\n",
       "      <th>52</th>\n",
       "      <td>Natal</td>\n",
       "      <td>2018-04-27</td>\n",
       "      <td>778.0</td>\n",
       "      <td>854</td>\n",
       "      <td>4</td>\n",
       "      <td>3112.0</td>\n",
       "      <td>4.0</td>\n",
       "    </tr>\n",
       "  </tbody>\n",
       "</table>\n",
       "</div>"
      ],
      "text/plain": [
       "   Cidade       Data  Vendas LojaID  Qtde  Receita  Receita/Vendas\n",
       "7   Natal 2019-03-18   886.0    853     4   3544.0             4.0\n",
       "51  Natal 2018-01-21   859.0    852     4   3436.0             4.0\n",
       "55  Natal 2019-01-08   859.0    854     4   3436.0             4.0\n",
       "30  Natal 2018-10-02   856.0    853     4   3424.0             4.0\n",
       "41  Natal 2018-05-20   835.0    852     4   3340.0             4.0\n",
       "10  Natal 2018-10-27   828.0    852     4   3312.0             4.0\n",
       "38  Natal 2018-02-25   828.0    852     4   3312.0             4.0\n",
       "69  Natal 2019-03-24   817.0    852     4   3268.0             4.0\n",
       "62  Natal 2018-02-10   793.0    854     4   3172.0             4.0\n",
       "52  Natal 2018-04-27   778.0    854     4   3112.0             4.0"
      ]
     },
     "execution_count": 125,
     "metadata": {
      "tags": []
     },
     "output_type": "execute_result"
    }
   ],
   "source": [
    "#Ordenando o conjunto de dados\n",
    "df.sort_values(\"Receita\", ascending=False).head(10)"
   ]
  },
  {
   "cell_type": "markdown",
   "metadata": {
    "colab_type": "text",
    "id": "6cA7C78N6sV2"
   },
   "source": [
    "#**Trabalhando com datas**"
   ]
  },
  {
   "cell_type": "code",
   "execution_count": 0,
   "metadata": {
    "colab": {},
    "colab_type": "code",
    "id": "bRaEoWjR6deI"
   },
   "outputs": [],
   "source": [
    "#Trasnformando a coluna de data em tipo inteiro\n",
    "df[\"Data\"] = df[\"Data\"].astype(\"int64\")"
   ]
  },
  {
   "cell_type": "code",
   "execution_count": 127,
   "metadata": {
    "colab": {
     "base_uri": "https://localhost:8080/",
     "height": 153
    },
    "colab_type": "code",
    "id": "dz5kfhncHi7Y",
    "outputId": "275eb110-54a8-450e-b8c6-165961d670b7"
   },
   "outputs": [
    {
     "data": {
      "text/plain": [
       "Cidade             object\n",
       "Data                int64\n",
       "Vendas            float64\n",
       "LojaID             object\n",
       "Qtde                int64\n",
       "Receita           float64\n",
       "Receita/Vendas    float64\n",
       "dtype: object"
      ]
     },
     "execution_count": 127,
     "metadata": {
      "tags": []
     },
     "output_type": "execute_result"
    }
   ],
   "source": [
    "#Verificando o tipo de dado de cada coluna\n",
    "df.dtypes"
   ]
  },
  {
   "cell_type": "code",
   "execution_count": 0,
   "metadata": {
    "colab": {},
    "colab_type": "code",
    "id": "oQhrdhlyHkED"
   },
   "outputs": [],
   "source": [
    "#Transformando coluna de data em data\n",
    "df[\"Data\"] = pd.to_datetime(df[\"Data\"])"
   ]
  },
  {
   "cell_type": "code",
   "execution_count": 129,
   "metadata": {
    "colab": {
     "base_uri": "https://localhost:8080/",
     "height": 153
    },
    "colab_type": "code",
    "id": "F5zeaq6tH1P0",
    "outputId": "5b8043b2-c63b-4322-df5a-dd41737591c6"
   },
   "outputs": [
    {
     "data": {
      "text/plain": [
       "Cidade                    object\n",
       "Data              datetime64[ns]\n",
       "Vendas                   float64\n",
       "LojaID                    object\n",
       "Qtde                       int64\n",
       "Receita                  float64\n",
       "Receita/Vendas           float64\n",
       "dtype: object"
      ]
     },
     "execution_count": 129,
     "metadata": {
      "tags": []
     },
     "output_type": "execute_result"
    }
   ],
   "source": [
    "df.dtypes"
   ]
  },
  {
   "cell_type": "code",
   "execution_count": 130,
   "metadata": {
    "colab": {
     "base_uri": "https://localhost:8080/",
     "height": 85
    },
    "colab_type": "code",
    "id": "c027o0jyH2qg",
    "outputId": "4db1851a-4712-44b6-f297-ec2c16d61f67"
   },
   "outputs": [
    {
     "data": {
      "text/plain": [
       "Data\n",
       "2018    118176.53\n",
       "2019    226454.71\n",
       "Name: Receita, dtype: float64"
      ]
     },
     "execution_count": 130,
     "metadata": {
      "tags": []
     },
     "output_type": "execute_result"
    }
   ],
   "source": [
    "#Agrupamento por ano\n",
    "df.groupby(df[\"Data\"].dt.year)[\"Receita\"].sum()"
   ]
  },
  {
   "cell_type": "code",
   "execution_count": 0,
   "metadata": {
    "colab": {},
    "colab_type": "code",
    "id": "kX_HYKgQIEPD"
   },
   "outputs": [],
   "source": [
    "#Criando uma nova coluna com o ano\n",
    "df[\"Ano_Venda\"] = df[\"Data\"].dt.year"
   ]
  },
  {
   "cell_type": "code",
   "execution_count": 133,
   "metadata": {
    "colab": {
     "base_uri": "https://localhost:8080/",
     "height": 204
    },
    "colab_type": "code",
    "id": "MJjiTggaISUi",
    "outputId": "664952a0-57c6-4f6d-ad6f-03a5d846d557"
   },
   "outputs": [
    {
     "data": {
      "text/html": [
       "<div>\n",
       "<style scoped>\n",
       "    .dataframe tbody tr th:only-of-type {\n",
       "        vertical-align: middle;\n",
       "    }\n",
       "\n",
       "    .dataframe tbody tr th {\n",
       "        vertical-align: top;\n",
       "    }\n",
       "\n",
       "    .dataframe thead th {\n",
       "        text-align: right;\n",
       "    }\n",
       "</style>\n",
       "<table border=\"1\" class=\"dataframe\">\n",
       "  <thead>\n",
       "    <tr style=\"text-align: right;\">\n",
       "      <th></th>\n",
       "      <th>Cidade</th>\n",
       "      <th>Data</th>\n",
       "      <th>Vendas</th>\n",
       "      <th>LojaID</th>\n",
       "      <th>Qtde</th>\n",
       "      <th>Receita</th>\n",
       "      <th>Receita/Vendas</th>\n",
       "      <th>Ano_Venda</th>\n",
       "    </tr>\n",
       "  </thead>\n",
       "  <tbody>\n",
       "    <tr>\n",
       "      <th>124</th>\n",
       "      <td>Salvador</td>\n",
       "      <td>2019-03-02</td>\n",
       "      <td>44.82</td>\n",
       "      <td>1034</td>\n",
       "      <td>3</td>\n",
       "      <td>134.46</td>\n",
       "      <td>3.0</td>\n",
       "      <td>2019</td>\n",
       "    </tr>\n",
       "    <tr>\n",
       "      <th>218</th>\n",
       "      <td>Salvador</td>\n",
       "      <td>2019-01-02</td>\n",
       "      <td>189.12</td>\n",
       "      <td>1036</td>\n",
       "      <td>3</td>\n",
       "      <td>567.36</td>\n",
       "      <td>3.0</td>\n",
       "      <td>2019</td>\n",
       "    </tr>\n",
       "    <tr>\n",
       "      <th>82</th>\n",
       "      <td>Aracaju</td>\n",
       "      <td>2018-01-01</td>\n",
       "      <td>150.48</td>\n",
       "      <td>1522</td>\n",
       "      <td>4</td>\n",
       "      <td>601.92</td>\n",
       "      <td>4.0</td>\n",
       "      <td>2018</td>\n",
       "    </tr>\n",
       "    <tr>\n",
       "      <th>29</th>\n",
       "      <td>Salvador</td>\n",
       "      <td>2019-01-01</td>\n",
       "      <td>9.27</td>\n",
       "      <td>1034</td>\n",
       "      <td>1</td>\n",
       "      <td>9.27</td>\n",
       "      <td>1.0</td>\n",
       "      <td>2019</td>\n",
       "    </tr>\n",
       "    <tr>\n",
       "      <th>123</th>\n",
       "      <td>Salvador</td>\n",
       "      <td>2019-03-02</td>\n",
       "      <td>127.45</td>\n",
       "      <td>1036</td>\n",
       "      <td>3</td>\n",
       "      <td>382.35</td>\n",
       "      <td>3.0</td>\n",
       "      <td>2019</td>\n",
       "    </tr>\n",
       "  </tbody>\n",
       "</table>\n",
       "</div>"
      ],
      "text/plain": [
       "       Cidade       Data  Vendas  ... Receita  Receita/Vendas  Ano_Venda\n",
       "124  Salvador 2019-03-02   44.82  ...  134.46             3.0       2019\n",
       "218  Salvador 2019-01-02  189.12  ...  567.36             3.0       2019\n",
       "82    Aracaju 2018-01-01  150.48  ...  601.92             4.0       2018\n",
       "29   Salvador 2019-01-01    9.27  ...    9.27             1.0       2019\n",
       "123  Salvador 2019-03-02  127.45  ...  382.35             3.0       2019\n",
       "\n",
       "[5 rows x 8 columns]"
      ]
     },
     "execution_count": 133,
     "metadata": {
      "tags": []
     },
     "output_type": "execute_result"
    }
   ],
   "source": [
    "df.sample(5)"
   ]
  },
  {
   "cell_type": "code",
   "execution_count": 0,
   "metadata": {
    "colab": {},
    "colab_type": "code",
    "id": "QPNcE_6rIT6F"
   },
   "outputs": [],
   "source": [
    "#Extraindo o mês e o dia\n",
    "df[\"mes_venda\"], df[\"dia_venda\"] = (df[\"Data\"].dt.month, df[\"Data\"].dt.day)"
   ]
  },
  {
   "cell_type": "code",
   "execution_count": 136,
   "metadata": {
    "colab": {
     "base_uri": "https://localhost:8080/",
     "height": 204
    },
    "colab_type": "code",
    "id": "9AOp3NNfIrah",
    "outputId": "be23b592-06ec-4eab-88f0-46da74f85544"
   },
   "outputs": [
    {
     "data": {
      "text/html": [
       "<div>\n",
       "<style scoped>\n",
       "    .dataframe tbody tr th:only-of-type {\n",
       "        vertical-align: middle;\n",
       "    }\n",
       "\n",
       "    .dataframe tbody tr th {\n",
       "        vertical-align: top;\n",
       "    }\n",
       "\n",
       "    .dataframe thead th {\n",
       "        text-align: right;\n",
       "    }\n",
       "</style>\n",
       "<table border=\"1\" class=\"dataframe\">\n",
       "  <thead>\n",
       "    <tr style=\"text-align: right;\">\n",
       "      <th></th>\n",
       "      <th>Cidade</th>\n",
       "      <th>Data</th>\n",
       "      <th>Vendas</th>\n",
       "      <th>LojaID</th>\n",
       "      <th>Qtde</th>\n",
       "      <th>Receita</th>\n",
       "      <th>Receita/Vendas</th>\n",
       "      <th>Ano_Venda</th>\n",
       "      <th>mes_venda</th>\n",
       "      <th>dia_venda</th>\n",
       "    </tr>\n",
       "  </thead>\n",
       "  <tbody>\n",
       "    <tr>\n",
       "      <th>97</th>\n",
       "      <td>Salvador</td>\n",
       "      <td>2019-01-01</td>\n",
       "      <td>39.91</td>\n",
       "      <td>1037</td>\n",
       "      <td>3</td>\n",
       "      <td>119.73</td>\n",
       "      <td>3.0</td>\n",
       "      <td>2019</td>\n",
       "      <td>1</td>\n",
       "      <td>1</td>\n",
       "    </tr>\n",
       "    <tr>\n",
       "      <th>12</th>\n",
       "      <td>Aracaju</td>\n",
       "      <td>2019-01-01</td>\n",
       "      <td>9.78</td>\n",
       "      <td>1520</td>\n",
       "      <td>8</td>\n",
       "      <td>78.24</td>\n",
       "      <td>8.0</td>\n",
       "      <td>2019</td>\n",
       "      <td>1</td>\n",
       "      <td>1</td>\n",
       "    </tr>\n",
       "    <tr>\n",
       "      <th>59</th>\n",
       "      <td>Natal</td>\n",
       "      <td>2018-01-15</td>\n",
       "      <td>369.00</td>\n",
       "      <td>853</td>\n",
       "      <td>2</td>\n",
       "      <td>738.00</td>\n",
       "      <td>2.0</td>\n",
       "      <td>2018</td>\n",
       "      <td>1</td>\n",
       "      <td>15</td>\n",
       "    </tr>\n",
       "    <tr>\n",
       "      <th>13</th>\n",
       "      <td>Natal</td>\n",
       "      <td>2018-09-12</td>\n",
       "      <td>458.00</td>\n",
       "      <td>852</td>\n",
       "      <td>4</td>\n",
       "      <td>1832.00</td>\n",
       "      <td>4.0</td>\n",
       "      <td>2018</td>\n",
       "      <td>9</td>\n",
       "      <td>12</td>\n",
       "    </tr>\n",
       "    <tr>\n",
       "      <th>16</th>\n",
       "      <td>Aracaju</td>\n",
       "      <td>2018-01-01</td>\n",
       "      <td>37.68</td>\n",
       "      <td>1522</td>\n",
       "      <td>10</td>\n",
       "      <td>376.80</td>\n",
       "      <td>10.0</td>\n",
       "      <td>2018</td>\n",
       "      <td>1</td>\n",
       "      <td>1</td>\n",
       "    </tr>\n",
       "  </tbody>\n",
       "</table>\n",
       "</div>"
      ],
      "text/plain": [
       "      Cidade       Data  Vendas  ... Ano_Venda  mes_venda  dia_venda\n",
       "97  Salvador 2019-01-01   39.91  ...      2019          1          1\n",
       "12   Aracaju 2019-01-01    9.78  ...      2019          1          1\n",
       "59     Natal 2018-01-15  369.00  ...      2018          1         15\n",
       "13     Natal 2018-09-12  458.00  ...      2018          9         12\n",
       "16   Aracaju 2018-01-01   37.68  ...      2018          1          1\n",
       "\n",
       "[5 rows x 10 columns]"
      ]
     },
     "execution_count": 136,
     "metadata": {
      "tags": []
     },
     "output_type": "execute_result"
    }
   ],
   "source": [
    "df.sample(5)"
   ]
  },
  {
   "cell_type": "code",
   "execution_count": 137,
   "metadata": {
    "colab": {
     "base_uri": "https://localhost:8080/",
     "height": 34
    },
    "colab_type": "code",
    "id": "r0la0X6aIuTR",
    "outputId": "bd244f1b-6e69-4991-c290-f071af4e0d60"
   },
   "outputs": [
    {
     "data": {
      "text/plain": [
       "Timestamp('2018-01-01 00:00:00')"
      ]
     },
     "execution_count": 137,
     "metadata": {
      "tags": []
     },
     "output_type": "execute_result"
    }
   ],
   "source": [
    "#Retornando a data mais antiga\n",
    "df[\"Data\"].min()"
   ]
  },
  {
   "cell_type": "code",
   "execution_count": 0,
   "metadata": {
    "colab": {},
    "colab_type": "code",
    "id": "7fxtFDflI7L0"
   },
   "outputs": [],
   "source": [
    "#Calculando a diferença de dias\n",
    "df[\"diferenca_dias\"] = df[\"Data\"] - df[\"Data\"].min()"
   ]
  },
  {
   "cell_type": "code",
   "execution_count": 139,
   "metadata": {
    "colab": {
     "base_uri": "https://localhost:8080/",
     "height": 204
    },
    "colab_type": "code",
    "id": "997DVEidJKNG",
    "outputId": "3cdb03c2-cb8d-4891-b10b-27474beb1806"
   },
   "outputs": [
    {
     "data": {
      "text/html": [
       "<div>\n",
       "<style scoped>\n",
       "    .dataframe tbody tr th:only-of-type {\n",
       "        vertical-align: middle;\n",
       "    }\n",
       "\n",
       "    .dataframe tbody tr th {\n",
       "        vertical-align: top;\n",
       "    }\n",
       "\n",
       "    .dataframe thead th {\n",
       "        text-align: right;\n",
       "    }\n",
       "</style>\n",
       "<table border=\"1\" class=\"dataframe\">\n",
       "  <thead>\n",
       "    <tr style=\"text-align: right;\">\n",
       "      <th></th>\n",
       "      <th>Cidade</th>\n",
       "      <th>Data</th>\n",
       "      <th>Vendas</th>\n",
       "      <th>LojaID</th>\n",
       "      <th>Qtde</th>\n",
       "      <th>Receita</th>\n",
       "      <th>Receita/Vendas</th>\n",
       "      <th>Ano_Venda</th>\n",
       "      <th>mes_venda</th>\n",
       "      <th>dia_venda</th>\n",
       "      <th>diferenca_dias</th>\n",
       "    </tr>\n",
       "  </thead>\n",
       "  <tbody>\n",
       "    <tr>\n",
       "      <th>104</th>\n",
       "      <td>Aracaju</td>\n",
       "      <td>2018-01-01</td>\n",
       "      <td>46.96</td>\n",
       "      <td>1522</td>\n",
       "      <td>1</td>\n",
       "      <td>46.96</td>\n",
       "      <td>1.0</td>\n",
       "      <td>2018</td>\n",
       "      <td>1</td>\n",
       "      <td>1</td>\n",
       "      <td>0 days</td>\n",
       "    </tr>\n",
       "    <tr>\n",
       "      <th>70</th>\n",
       "      <td>Recife</td>\n",
       "      <td>2019-01-01</td>\n",
       "      <td>20.40</td>\n",
       "      <td>983</td>\n",
       "      <td>7</td>\n",
       "      <td>142.80</td>\n",
       "      <td>7.0</td>\n",
       "      <td>2019</td>\n",
       "      <td>1</td>\n",
       "      <td>1</td>\n",
       "      <td>365 days</td>\n",
       "    </tr>\n",
       "    <tr>\n",
       "      <th>50</th>\n",
       "      <td>Salvador</td>\n",
       "      <td>2019-01-01</td>\n",
       "      <td>44.87</td>\n",
       "      <td>1036</td>\n",
       "      <td>3</td>\n",
       "      <td>134.61</td>\n",
       "      <td>3.0</td>\n",
       "      <td>2019</td>\n",
       "      <td>1</td>\n",
       "      <td>1</td>\n",
       "      <td>365 days</td>\n",
       "    </tr>\n",
       "    <tr>\n",
       "      <th>34</th>\n",
       "      <td>Recife</td>\n",
       "      <td>2019-01-01</td>\n",
       "      <td>24.97</td>\n",
       "      <td>980</td>\n",
       "      <td>5</td>\n",
       "      <td>124.85</td>\n",
       "      <td>5.0</td>\n",
       "      <td>2019</td>\n",
       "      <td>1</td>\n",
       "      <td>1</td>\n",
       "      <td>365 days</td>\n",
       "    </tr>\n",
       "    <tr>\n",
       "      <th>147</th>\n",
       "      <td>Salvador</td>\n",
       "      <td>2019-01-02</td>\n",
       "      <td>34.50</td>\n",
       "      <td>1035</td>\n",
       "      <td>1</td>\n",
       "      <td>34.50</td>\n",
       "      <td>1.0</td>\n",
       "      <td>2019</td>\n",
       "      <td>1</td>\n",
       "      <td>2</td>\n",
       "      <td>366 days</td>\n",
       "    </tr>\n",
       "  </tbody>\n",
       "</table>\n",
       "</div>"
      ],
      "text/plain": [
       "       Cidade       Data  Vendas  ... mes_venda  dia_venda  diferenca_dias\n",
       "104   Aracaju 2018-01-01   46.96  ...         1          1          0 days\n",
       "70     Recife 2019-01-01   20.40  ...         1          1        365 days\n",
       "50   Salvador 2019-01-01   44.87  ...         1          1        365 days\n",
       "34     Recife 2019-01-01   24.97  ...         1          1        365 days\n",
       "147  Salvador 2019-01-02   34.50  ...         1          2        366 days\n",
       "\n",
       "[5 rows x 11 columns]"
      ]
     },
     "execution_count": 139,
     "metadata": {
      "tags": []
     },
     "output_type": "execute_result"
    }
   ],
   "source": [
    "df.sample(5)"
   ]
  },
  {
   "cell_type": "code",
   "execution_count": 0,
   "metadata": {
    "colab": {},
    "colab_type": "code",
    "id": "KHAOU_EuJLkb"
   },
   "outputs": [],
   "source": [
    "#Criando a coluna de trimestre\n",
    "df[\"trimestre_venda\"] = df[\"Data\"].dt.quarter"
   ]
  },
  {
   "cell_type": "code",
   "execution_count": 144,
   "metadata": {
    "colab": {
     "base_uri": "https://localhost:8080/",
     "height": 204
    },
    "colab_type": "code",
    "id": "OWZos9y5JbDQ",
    "outputId": "79806c1f-ed51-4705-d0b9-cbb2659f5844"
   },
   "outputs": [
    {
     "data": {
      "text/html": [
       "<div>\n",
       "<style scoped>\n",
       "    .dataframe tbody tr th:only-of-type {\n",
       "        vertical-align: middle;\n",
       "    }\n",
       "\n",
       "    .dataframe tbody tr th {\n",
       "        vertical-align: top;\n",
       "    }\n",
       "\n",
       "    .dataframe thead th {\n",
       "        text-align: right;\n",
       "    }\n",
       "</style>\n",
       "<table border=\"1\" class=\"dataframe\">\n",
       "  <thead>\n",
       "    <tr style=\"text-align: right;\">\n",
       "      <th></th>\n",
       "      <th>Cidade</th>\n",
       "      <th>Data</th>\n",
       "      <th>Vendas</th>\n",
       "      <th>LojaID</th>\n",
       "      <th>Qtde</th>\n",
       "      <th>Receita</th>\n",
       "      <th>Receita/Vendas</th>\n",
       "      <th>Ano_Venda</th>\n",
       "      <th>mes_venda</th>\n",
       "      <th>dia_venda</th>\n",
       "      <th>diferenca_dias</th>\n",
       "      <th>trimestre_venda</th>\n",
       "    </tr>\n",
       "  </thead>\n",
       "  <tbody>\n",
       "    <tr>\n",
       "      <th>85</th>\n",
       "      <td>Fortaleza</td>\n",
       "      <td>2019-01-01</td>\n",
       "      <td>149.00</td>\n",
       "      <td>1005</td>\n",
       "      <td>3</td>\n",
       "      <td>447.00</td>\n",
       "      <td>3.0</td>\n",
       "      <td>2019</td>\n",
       "      <td>1</td>\n",
       "      <td>1</td>\n",
       "      <td>365 days</td>\n",
       "      <td>1</td>\n",
       "    </tr>\n",
       "    <tr>\n",
       "      <th>2</th>\n",
       "      <td>Aracaju</td>\n",
       "      <td>2018-01-01</td>\n",
       "      <td>71.55</td>\n",
       "      <td>1520</td>\n",
       "      <td>1</td>\n",
       "      <td>71.55</td>\n",
       "      <td>1.0</td>\n",
       "      <td>2018</td>\n",
       "      <td>1</td>\n",
       "      <td>1</td>\n",
       "      <td>0 days</td>\n",
       "      <td>1</td>\n",
       "    </tr>\n",
       "    <tr>\n",
       "      <th>54</th>\n",
       "      <td>Fortaleza</td>\n",
       "      <td>2019-01-01</td>\n",
       "      <td>16.73</td>\n",
       "      <td>1002</td>\n",
       "      <td>5</td>\n",
       "      <td>83.65</td>\n",
       "      <td>5.0</td>\n",
       "      <td>2019</td>\n",
       "      <td>1</td>\n",
       "      <td>1</td>\n",
       "      <td>365 days</td>\n",
       "      <td>1</td>\n",
       "    </tr>\n",
       "    <tr>\n",
       "      <th>81</th>\n",
       "      <td>Aracaju</td>\n",
       "      <td>2018-01-01</td>\n",
       "      <td>53.41</td>\n",
       "      <td>1520</td>\n",
       "      <td>2</td>\n",
       "      <td>106.82</td>\n",
       "      <td>2.0</td>\n",
       "      <td>2018</td>\n",
       "      <td>1</td>\n",
       "      <td>1</td>\n",
       "      <td>0 days</td>\n",
       "      <td>1</td>\n",
       "    </tr>\n",
       "    <tr>\n",
       "      <th>45</th>\n",
       "      <td>Fortaleza</td>\n",
       "      <td>2019-01-01</td>\n",
       "      <td>0.00</td>\n",
       "      <td>1004</td>\n",
       "      <td>3</td>\n",
       "      <td>0.00</td>\n",
       "      <td>NaN</td>\n",
       "      <td>2019</td>\n",
       "      <td>1</td>\n",
       "      <td>1</td>\n",
       "      <td>365 days</td>\n",
       "      <td>1</td>\n",
       "    </tr>\n",
       "  </tbody>\n",
       "</table>\n",
       "</div>"
      ],
      "text/plain": [
       "       Cidade       Data  Vendas  ... dia_venda  diferenca_dias  trimestre_venda\n",
       "85  Fortaleza 2019-01-01  149.00  ...         1        365 days                1\n",
       "2     Aracaju 2018-01-01   71.55  ...         1          0 days                1\n",
       "54  Fortaleza 2019-01-01   16.73  ...         1        365 days                1\n",
       "81    Aracaju 2018-01-01   53.41  ...         1          0 days                1\n",
       "45  Fortaleza 2019-01-01    0.00  ...         1        365 days                1\n",
       "\n",
       "[5 rows x 12 columns]"
      ]
     },
     "execution_count": 144,
     "metadata": {
      "tags": []
     },
     "output_type": "execute_result"
    }
   ],
   "source": [
    "df.sample(5)"
   ]
  },
  {
   "cell_type": "code",
   "execution_count": 0,
   "metadata": {
    "colab": {},
    "colab_type": "code",
    "id": "ie2WTtU5Jc-G"
   },
   "outputs": [],
   "source": [
    "#Filtrando as vendas de 2019 do mês de março\n",
    "vendas_marco_19 = df.loc[(df[\"Data\"].dt.year == 2019) & (df[\"Data\"].dt.month == 3)]"
   ]
  },
  {
   "cell_type": "code",
   "execution_count": 147,
   "metadata": {
    "colab": {
     "base_uri": "https://localhost:8080/",
     "height": 669
    },
    "colab_type": "code",
    "id": "4x6GgzC9KB_e",
    "outputId": "c65a0365-31d1-4876-96a9-803c355a4bed"
   },
   "outputs": [
    {
     "data": {
      "text/html": [
       "<div>\n",
       "<style scoped>\n",
       "    .dataframe tbody tr th:only-of-type {\n",
       "        vertical-align: middle;\n",
       "    }\n",
       "\n",
       "    .dataframe tbody tr th {\n",
       "        vertical-align: top;\n",
       "    }\n",
       "\n",
       "    .dataframe thead th {\n",
       "        text-align: right;\n",
       "    }\n",
       "</style>\n",
       "<table border=\"1\" class=\"dataframe\">\n",
       "  <thead>\n",
       "    <tr style=\"text-align: right;\">\n",
       "      <th></th>\n",
       "      <th>Cidade</th>\n",
       "      <th>Data</th>\n",
       "      <th>Vendas</th>\n",
       "      <th>LojaID</th>\n",
       "      <th>Qtde</th>\n",
       "      <th>Receita</th>\n",
       "      <th>Receita/Vendas</th>\n",
       "      <th>Ano_Venda</th>\n",
       "      <th>mes_venda</th>\n",
       "      <th>dia_venda</th>\n",
       "      <th>diferenca_dias</th>\n",
       "      <th>trimestre_venda</th>\n",
       "    </tr>\n",
       "  </thead>\n",
       "  <tbody>\n",
       "    <tr>\n",
       "      <th>125</th>\n",
       "      <td>Fortaleza</td>\n",
       "      <td>2019-03-02</td>\n",
       "      <td>37.60</td>\n",
       "      <td>983</td>\n",
       "      <td>4</td>\n",
       "      <td>150.40</td>\n",
       "      <td>4.0</td>\n",
       "      <td>2019</td>\n",
       "      <td>3</td>\n",
       "      <td>2</td>\n",
       "      <td>425 days</td>\n",
       "      <td>1</td>\n",
       "    </tr>\n",
       "    <tr>\n",
       "      <th>124</th>\n",
       "      <td>Fortaleza</td>\n",
       "      <td>2019-03-02</td>\n",
       "      <td>47.98</td>\n",
       "      <td>983</td>\n",
       "      <td>7</td>\n",
       "      <td>335.86</td>\n",
       "      <td>7.0</td>\n",
       "      <td>2019</td>\n",
       "      <td>3</td>\n",
       "      <td>2</td>\n",
       "      <td>425 days</td>\n",
       "      <td>1</td>\n",
       "    </tr>\n",
       "    <tr>\n",
       "      <th>115</th>\n",
       "      <td>Fortaleza</td>\n",
       "      <td>2019-03-02</td>\n",
       "      <td>12.23</td>\n",
       "      <td>981</td>\n",
       "      <td>3</td>\n",
       "      <td>36.69</td>\n",
       "      <td>3.0</td>\n",
       "      <td>2019</td>\n",
       "      <td>3</td>\n",
       "      <td>2</td>\n",
       "      <td>425 days</td>\n",
       "      <td>1</td>\n",
       "    </tr>\n",
       "    <tr>\n",
       "      <th>50</th>\n",
       "      <td>Natal</td>\n",
       "      <td>2019-03-08</td>\n",
       "      <td>324.00</td>\n",
       "      <td>854</td>\n",
       "      <td>4</td>\n",
       "      <td>1296.00</td>\n",
       "      <td>4.0</td>\n",
       "      <td>2019</td>\n",
       "      <td>3</td>\n",
       "      <td>8</td>\n",
       "      <td>431 days</td>\n",
       "      <td>1</td>\n",
       "    </tr>\n",
       "    <tr>\n",
       "      <th>126</th>\n",
       "      <td>Recife</td>\n",
       "      <td>2019-03-02</td>\n",
       "      <td>41.87</td>\n",
       "      <td>980</td>\n",
       "      <td>8</td>\n",
       "      <td>334.96</td>\n",
       "      <td>8.0</td>\n",
       "      <td>2019</td>\n",
       "      <td>3</td>\n",
       "      <td>2</td>\n",
       "      <td>425 days</td>\n",
       "      <td>1</td>\n",
       "    </tr>\n",
       "    <tr>\n",
       "      <th>125</th>\n",
       "      <td>Recife</td>\n",
       "      <td>2019-03-02</td>\n",
       "      <td>37.60</td>\n",
       "      <td>983</td>\n",
       "      <td>4</td>\n",
       "      <td>150.40</td>\n",
       "      <td>4.0</td>\n",
       "      <td>2019</td>\n",
       "      <td>3</td>\n",
       "      <td>2</td>\n",
       "      <td>425 days</td>\n",
       "      <td>1</td>\n",
       "    </tr>\n",
       "    <tr>\n",
       "      <th>140</th>\n",
       "      <td>Fortaleza</td>\n",
       "      <td>2019-03-02</td>\n",
       "      <td>166.89</td>\n",
       "      <td>983</td>\n",
       "      <td>5</td>\n",
       "      <td>834.45</td>\n",
       "      <td>5.0</td>\n",
       "      <td>2019</td>\n",
       "      <td>3</td>\n",
       "      <td>2</td>\n",
       "      <td>425 days</td>\n",
       "      <td>1</td>\n",
       "    </tr>\n",
       "    <tr>\n",
       "      <th>140</th>\n",
       "      <td>Recife</td>\n",
       "      <td>2019-03-02</td>\n",
       "      <td>166.89</td>\n",
       "      <td>983</td>\n",
       "      <td>5</td>\n",
       "      <td>834.45</td>\n",
       "      <td>5.0</td>\n",
       "      <td>2019</td>\n",
       "      <td>3</td>\n",
       "      <td>2</td>\n",
       "      <td>425 days</td>\n",
       "      <td>1</td>\n",
       "    </tr>\n",
       "    <tr>\n",
       "      <th>2</th>\n",
       "      <td>Natal</td>\n",
       "      <td>2019-03-11</td>\n",
       "      <td>308.00</td>\n",
       "      <td>852</td>\n",
       "      <td>3</td>\n",
       "      <td>924.00</td>\n",
       "      <td>3.0</td>\n",
       "      <td>2019</td>\n",
       "      <td>3</td>\n",
       "      <td>11</td>\n",
       "      <td>434 days</td>\n",
       "      <td>1</td>\n",
       "    </tr>\n",
       "    <tr>\n",
       "      <th>131</th>\n",
       "      <td>Salvador</td>\n",
       "      <td>2019-03-02</td>\n",
       "      <td>63.48</td>\n",
       "      <td>1037</td>\n",
       "      <td>3</td>\n",
       "      <td>190.44</td>\n",
       "      <td>3.0</td>\n",
       "      <td>2019</td>\n",
       "      <td>3</td>\n",
       "      <td>2</td>\n",
       "      <td>425 days</td>\n",
       "      <td>1</td>\n",
       "    </tr>\n",
       "    <tr>\n",
       "      <th>108</th>\n",
       "      <td>Salvador</td>\n",
       "      <td>2019-03-02</td>\n",
       "      <td>11.72</td>\n",
       "      <td>1037</td>\n",
       "      <td>1</td>\n",
       "      <td>11.72</td>\n",
       "      <td>1.0</td>\n",
       "      <td>2019</td>\n",
       "      <td>3</td>\n",
       "      <td>2</td>\n",
       "      <td>425 days</td>\n",
       "      <td>1</td>\n",
       "    </tr>\n",
       "    <tr>\n",
       "      <th>118</th>\n",
       "      <td>Recife</td>\n",
       "      <td>2019-03-02</td>\n",
       "      <td>17.70</td>\n",
       "      <td>981</td>\n",
       "      <td>5</td>\n",
       "      <td>88.50</td>\n",
       "      <td>5.0</td>\n",
       "      <td>2019</td>\n",
       "      <td>3</td>\n",
       "      <td>2</td>\n",
       "      <td>425 days</td>\n",
       "      <td>1</td>\n",
       "    </tr>\n",
       "    <tr>\n",
       "      <th>66</th>\n",
       "      <td>Natal</td>\n",
       "      <td>2019-03-24</td>\n",
       "      <td>559.00</td>\n",
       "      <td>853</td>\n",
       "      <td>2</td>\n",
       "      <td>1118.00</td>\n",
       "      <td>2.0</td>\n",
       "      <td>2019</td>\n",
       "      <td>3</td>\n",
       "      <td>24</td>\n",
       "      <td>447 days</td>\n",
       "      <td>1</td>\n",
       "    </tr>\n",
       "    <tr>\n",
       "      <th>137</th>\n",
       "      <td>Recife</td>\n",
       "      <td>2019-03-02</td>\n",
       "      <td>51.99</td>\n",
       "      <td>983</td>\n",
       "      <td>3</td>\n",
       "      <td>155.97</td>\n",
       "      <td>3.0</td>\n",
       "      <td>2019</td>\n",
       "      <td>3</td>\n",
       "      <td>2</td>\n",
       "      <td>425 days</td>\n",
       "      <td>1</td>\n",
       "    </tr>\n",
       "    <tr>\n",
       "      <th>136</th>\n",
       "      <td>Recife</td>\n",
       "      <td>2019-03-02</td>\n",
       "      <td>39.09</td>\n",
       "      <td>982</td>\n",
       "      <td>4</td>\n",
       "      <td>156.36</td>\n",
       "      <td>4.0</td>\n",
       "      <td>2019</td>\n",
       "      <td>3</td>\n",
       "      <td>2</td>\n",
       "      <td>425 days</td>\n",
       "      <td>1</td>\n",
       "    </tr>\n",
       "    <tr>\n",
       "      <th>121</th>\n",
       "      <td>Salvador</td>\n",
       "      <td>2019-03-02</td>\n",
       "      <td>100.70</td>\n",
       "      <td>1037</td>\n",
       "      <td>3</td>\n",
       "      <td>302.10</td>\n",
       "      <td>3.0</td>\n",
       "      <td>2019</td>\n",
       "      <td>3</td>\n",
       "      <td>2</td>\n",
       "      <td>425 days</td>\n",
       "      <td>1</td>\n",
       "    </tr>\n",
       "    <tr>\n",
       "      <th>111</th>\n",
       "      <td>Salvador</td>\n",
       "      <td>2019-03-02</td>\n",
       "      <td>147.35</td>\n",
       "      <td>1037</td>\n",
       "      <td>2</td>\n",
       "      <td>294.70</td>\n",
       "      <td>2.0</td>\n",
       "      <td>2019</td>\n",
       "      <td>3</td>\n",
       "      <td>2</td>\n",
       "      <td>425 days</td>\n",
       "      <td>1</td>\n",
       "    </tr>\n",
       "    <tr>\n",
       "      <th>138</th>\n",
       "      <td>Recife</td>\n",
       "      <td>2019-03-02</td>\n",
       "      <td>150.38</td>\n",
       "      <td>983</td>\n",
       "      <td>6</td>\n",
       "      <td>902.28</td>\n",
       "      <td>6.0</td>\n",
       "      <td>2019</td>\n",
       "      <td>3</td>\n",
       "      <td>2</td>\n",
       "      <td>425 days</td>\n",
       "      <td>1</td>\n",
       "    </tr>\n",
       "    <tr>\n",
       "      <th>108</th>\n",
       "      <td>Fortaleza</td>\n",
       "      <td>2019-03-02</td>\n",
       "      <td>152.89</td>\n",
       "      <td>981</td>\n",
       "      <td>4</td>\n",
       "      <td>611.56</td>\n",
       "      <td>4.0</td>\n",
       "      <td>2019</td>\n",
       "      <td>3</td>\n",
       "      <td>2</td>\n",
       "      <td>425 days</td>\n",
       "      <td>1</td>\n",
       "    </tr>\n",
       "    <tr>\n",
       "      <th>82</th>\n",
       "      <td>Natal</td>\n",
       "      <td>2019-03-07</td>\n",
       "      <td>868.00</td>\n",
       "      <td>854</td>\n",
       "      <td>3</td>\n",
       "      <td>2604.00</td>\n",
       "      <td>3.0</td>\n",
       "      <td>2019</td>\n",
       "      <td>3</td>\n",
       "      <td>7</td>\n",
       "      <td>430 days</td>\n",
       "      <td>1</td>\n",
       "    </tr>\n",
       "  </tbody>\n",
       "</table>\n",
       "</div>"
      ],
      "text/plain": [
       "        Cidade       Data  Vendas  ... dia_venda  diferenca_dias  trimestre_venda\n",
       "125  Fortaleza 2019-03-02   37.60  ...         2        425 days                1\n",
       "124  Fortaleza 2019-03-02   47.98  ...         2        425 days                1\n",
       "115  Fortaleza 2019-03-02   12.23  ...         2        425 days                1\n",
       "50       Natal 2019-03-08  324.00  ...         8        431 days                1\n",
       "126     Recife 2019-03-02   41.87  ...         2        425 days                1\n",
       "125     Recife 2019-03-02   37.60  ...         2        425 days                1\n",
       "140  Fortaleza 2019-03-02  166.89  ...         2        425 days                1\n",
       "140     Recife 2019-03-02  166.89  ...         2        425 days                1\n",
       "2        Natal 2019-03-11  308.00  ...        11        434 days                1\n",
       "131   Salvador 2019-03-02   63.48  ...         2        425 days                1\n",
       "108   Salvador 2019-03-02   11.72  ...         2        425 days                1\n",
       "118     Recife 2019-03-02   17.70  ...         2        425 days                1\n",
       "66       Natal 2019-03-24  559.00  ...        24        447 days                1\n",
       "137     Recife 2019-03-02   51.99  ...         2        425 days                1\n",
       "136     Recife 2019-03-02   39.09  ...         2        425 days                1\n",
       "121   Salvador 2019-03-02  100.70  ...         2        425 days                1\n",
       "111   Salvador 2019-03-02  147.35  ...         2        425 days                1\n",
       "138     Recife 2019-03-02  150.38  ...         2        425 days                1\n",
       "108  Fortaleza 2019-03-02  152.89  ...         2        425 days                1\n",
       "82       Natal 2019-03-07  868.00  ...         7        430 days                1\n",
       "\n",
       "[20 rows x 12 columns]"
      ]
     },
     "execution_count": 147,
     "metadata": {
      "tags": []
     },
     "output_type": "execute_result"
    }
   ],
   "source": [
    "vendas_marco_19.sample(20)"
   ]
  },
  {
   "cell_type": "code",
   "execution_count": 0,
   "metadata": {
    "colab": {},
    "colab_type": "code",
    "id": "JmZ6dy1xKEtC"
   },
   "outputs": [],
   "source": []
  }
 ],
 "metadata": {
  "colab": {
   "name": "Pandas_Aula5.ipynb",
   "provenance": []
  },
  "kernelspec": {
   "display_name": "Python 3",
   "language": "python",
   "name": "python3"
  },
  "language_info": {
   "codemirror_mode": {
    "name": "ipython",
    "version": 3
   },
   "file_extension": ".py",
   "mimetype": "text/x-python",
   "name": "python",
   "nbconvert_exporter": "python",
   "pygments_lexer": "ipython3",
   "version": "3.8.8"
  }
 },
 "nbformat": 4,
 "nbformat_minor": 1
}
